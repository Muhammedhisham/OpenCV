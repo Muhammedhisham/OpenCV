{
 "cells": [
  {
   "cell_type": "code",
   "execution_count": 2,
   "metadata": {},
   "outputs": [
    {
     "name": "stdout",
     "output_type": "stream",
     "text": [
      "Requirement already satisfied: opencv-python in c:\\users\\hisha\\anaconda3\\lib\\site-packages (4.9.0.80)\n",
      "Requirement already satisfied: numpy>=1.17.3 in c:\\users\\hisha\\anaconda3\\lib\\site-packages (from opencv-python) (1.23.5)\n",
      "Note: you may need to restart the kernel to use updated packages.\n"
     ]
    }
   ],
   "source": [
    "pip install opencv-python\n"
   ]
  },
  {
   "cell_type": "code",
   "execution_count": 3,
   "metadata": {},
   "outputs": [],
   "source": [
    "import cv2 as cv"
   ]
  },
  {
   "cell_type": "code",
   "execution_count": 4,
   "metadata": {},
   "outputs": [],
   "source": [
    "img=cv.imread(r'C:\\Users\\hisha\\Desktop\\Python\\OpenCV\\download.png')\n",
    "gray_img = cv.cvtColor(img, cv.COLOR_BGR2GRAY)\n",
    "ot_img=cv.cvtColor(img,cv.COLOR_BGR2HSV)\n",
    "ot1_img=cv.cvtColor(img,cv.COLOR_BGR2LAB)\n",
    "ot2_img=cv.cvtColor(img,cv.COLOR_BGR2YUV)\n",
    "ot3_img=cv.cvtColor(img,cv.COLOR_BGR2XYZ)\n",
    "ot4_img=cv.cvtColor(img,cv.COLOR_BGR2RGB)\n",
    "cv.imshow('image',img)\n",
    "cv.imshow('ot_img',ot_img)\n",
    "cv.imshow('ot1_img',ot1_img)\n",
    "cv.imshow('ot2_img',ot2_img)\n",
    "cv.imshow('ot3_img',ot3_img)\n",
    "cv.imshow('ot4_img',ot4_img)\n",
    "\n",
    "cv.imshow('gray_img',gray_img)\n",
    "cv.waitKey(0)\n",
    "cv.destroyAllWindows()"
   ]
  },
  {
   "cell_type": "code",
   "execution_count": 24,
   "metadata": {},
   "outputs": [],
   "source": [
    "Cat=cv.imread(r'C:\\Users\\hisha\\Desktop\\Python\\OpenCV\\Cat.jpeg')\n",
    "Cat=cv.resize(Cat,(900,900))\n",
    "cv.circle(Cat,(400,400),80,(0,450,450),2)\n",
    "cv.rectangle(Cat,(450,450),(500,500),(0,200,200),2)\n",
    "cv.line(Cat,(500,500),(600,600),(0,200,200),2)\n",
    "font=cv.FONT_HERSHEY_SIMPLEX\n",
    "cv.putText(Cat,'This is a Cat',(301,601),font,2,(200,100,3),5)\n",
    "cv.imshow('Cat',Cat)\n",
    "cv.waitKey(0)\n",
    "cv.destroyAllWindows()\n"
   ]
  },
  {
   "cell_type": "code",
   "execution_count": null,
   "metadata": {},
   "outputs": [],
   "source": []
  },
  {
   "cell_type": "code",
   "execution_count": null,
   "metadata": {},
   "outputs": [],
   "source": []
  },
  {
   "cell_type": "code",
   "execution_count": null,
   "metadata": {},
   "outputs": [],
   "source": []
  }
 ],
 "metadata": {
  "kernelspec": {
   "display_name": "base",
   "language": "python",
   "name": "python3"
  },
  "language_info": {
   "codemirror_mode": {
    "name": "ipython",
    "version": 3
   },
   "file_extension": ".py",
   "mimetype": "text/x-python",
   "name": "python",
   "nbconvert_exporter": "python",
   "pygments_lexer": "ipython3",
   "version": "3.10.9"
  }
 },
 "nbformat": 4,
 "nbformat_minor": 2
}
